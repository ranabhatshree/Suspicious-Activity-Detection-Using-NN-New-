{
 "cells": [
  {
   "cell_type": "code",
   "execution_count": 1,
   "id": "dbcee6b1",
   "metadata": {},
   "outputs": [
    {
     "name": "stderr",
     "output_type": "stream",
     "text": [
      "Using TensorFlow backend.\n"
     ]
    }
   ],
   "source": [
    "import keras\n",
    "from matplotlib import pyplot as plt \n",
    "from keras import applications\n",
    "from keras.preprocessing.image import ImageDataGenerator\n",
    "from keras import optimizers\n",
    "from keras.models import Sequential, Model \n",
    "from keras.layers import *\n",
    "from keras.callbacks import ModelCheckpoint, LearningRateScheduler, TensorBoard\n",
    "from tensorflow.keras.callbacks import EarlyStopping\n",
    " \n",
    "import os\n",
    "import cv2\n",
    "import numpy as np\n",
    "from sklearn.model_selection import train_test_split\n",
    "import tensorflow.python.keras.metrics as km\n",
    " \n",
    "from sklearn.metrics import accuracy_score\n",
    "from sklearn.metrics import precision_score\n",
    "from sklearn.metrics import recall_score\n",
    "from sklearn.metrics import f1_score\n",
    "from sklearn.metrics import cohen_kappa_score\n",
    "from sklearn.metrics import roc_auc_score\n",
    "from sklearn.metrics import multilabel_confusion_matrix\n",
    "\n"
   ]
  },
  {
   "cell_type": "code",
   "execution_count": 2,
   "id": "dc33c9fc",
   "metadata": {},
   "outputs": [],
   "source": [
    "data_dir = \"Anomaly_Dataset/Anomaly_Videos/Anomaly-Videos-Part-2\"\n",
    "img_height , img_width = 64, 64\n",
    "seq_len = 70\n",
    "classes = os.listdir(data_dir)\n",
    "take_video = 50\n",
    "model_output = len(classes)"
   ]
  },
  {
   "cell_type": "code",
   "execution_count": 3,
   "id": "1616930a",
   "metadata": {},
   "outputs": [
    {
     "name": "stdout",
     "output_type": "stream",
     "text": [
      "100\n",
      "50\n",
      "50\n",
      "150\n"
     ]
    }
   ],
   "source": [
    "for dir in classes:\n",
    "    video_file = os.path.join(data_dir, dir)\n",
    "    print(len(os.listdir(video_file)))"
   ]
  },
  {
   "cell_type": "code",
   "execution_count": 4,
   "id": "718b914d",
   "metadata": {},
   "outputs": [
    {
     "data": {
      "text/plain": [
       "['Burglary', 'Explosion', 'Fighting', 'Normal']"
      ]
     },
     "execution_count": 4,
     "metadata": {},
     "output_type": "execute_result"
    }
   ],
   "source": [
    "classes"
   ]
  },
  {
   "cell_type": "code",
   "execution_count": 5,
   "id": "582cac82",
   "metadata": {},
   "outputs": [],
   "source": [
    "#  Creating frames from videos\n",
    " \n",
    "def frames_extraction(video_path):\n",
    "    frames_list = []\n",
    "     \n",
    "    vidObj = cv2.VideoCapture(video_path)\n",
    "    # Used as counter variable \n",
    "    count = 1\n",
    " \n",
    "    while count <= seq_len: \n",
    "         \n",
    "        success, image = vidObj.read() \n",
    "        if success:\n",
    "            image = cv2.resize(image, (img_height, img_width))\n",
    "            frames_list.append(image)\n",
    "            count += 1\n",
    "        else:\n",
    "            print(\"Defected frame\")\n",
    "            break\n",
    " \n",
    "            \n",
    "    return frames_list"
   ]
  },
  {
   "cell_type": "code",
   "execution_count": 6,
   "id": "b4b6587d",
   "metadata": {},
   "outputs": [],
   "source": [
    "def create_data(input_dir):\n",
    "    X = []\n",
    "    Y = []\n",
    "     \n",
    "    classes_list = os.listdir(input_dir)\n",
    "     \n",
    "    for c in classes:\n",
    "        print(\"Reading from {}\".format(c))\n",
    "        files_list = os.listdir(os.path.join(input_dir, c))\n",
    "        for f in files_list:\n",
    "           frames = frames_extraction(os.path.join(os.path.join(input_dir, c), f))\n",
    "           if len(frames) == seq_len:\n",
    "                X.append(frames)\n",
    "             \n",
    "                y = [0]*len(classes)\n",
    "                y[classes.index(c)] = 1\n",
    "                Y.append(y)\n",
    "     \n",
    "    X = np.asarray(X)\n",
    "    Y = np.asarray(Y)\n",
    "    return X, Y"
   ]
  },
  {
   "cell_type": "code",
   "execution_count": 7,
   "id": "b12d2ed2",
   "metadata": {},
   "outputs": [
    {
     "name": "stdout",
     "output_type": "stream",
     "text": [
      "Reading from Burglary\n",
      "Reading from Explosion\n",
      "Reading from Fighting\n",
      "Reading from Normal\n"
     ]
    }
   ],
   "source": [
    "X, Y = create_data(data_dir)"
   ]
  },
  {
   "cell_type": "code",
   "execution_count": 8,
   "id": "560293b0",
   "metadata": {},
   "outputs": [
    {
     "data": {
      "text/plain": [
       "((350, 70, 64, 64, 3), (350, 4))"
      ]
     },
     "execution_count": 8,
     "metadata": {},
     "output_type": "execute_result"
    }
   ],
   "source": [
    "X.shape, Y.shape"
   ]
  },
  {
   "cell_type": "code",
   "execution_count": 9,
   "id": "6af8e165",
   "metadata": {},
   "outputs": [],
   "source": [
    "X_train, X_test, y_train, y_test = train_test_split(X, Y, test_size=0.20, shuffle=True, random_state=0)\n"
   ]
  },
  {
   "cell_type": "code",
   "execution_count": 10,
   "id": "1615f5b0",
   "metadata": {},
   "outputs": [
    {
     "name": "stdout",
     "output_type": "stream",
     "text": [
      "Model: \"sequential\"\n",
      "_________________________________________________________________\n",
      "Layer (type)                 Output Shape              Param #   \n",
      "=================================================================\n",
      "conv_lst_m2d (ConvLSTM2D)    (None, 62, 62, 64)        154624    \n",
      "_________________________________________________________________\n",
      "dropout (Dropout)            (None, 62, 62, 64)        0         \n",
      "_________________________________________________________________\n",
      "flatten (Flatten)            (None, 246016)            0         \n",
      "_________________________________________________________________\n",
      "dense (Dense)                (None, 16)                3936272   \n",
      "_________________________________________________________________\n",
      "dropout_1 (Dropout)          (None, 16)                0         \n",
      "_________________________________________________________________\n",
      "dense_1 (Dense)              (None, 4)                 68        \n",
      "=================================================================\n",
      "Total params: 4,090,964\n",
      "Trainable params: 4,090,964\n",
      "Non-trainable params: 0\n",
      "_________________________________________________________________\n"
     ]
    }
   ],
   "source": [
    "model = Sequential()\n",
    "model.add(ConvLSTM2D(filters = 64, kernel_size = (3, 3), return_sequences = False, data_format = \"channels_last\", input_shape = (seq_len, img_height, img_width, 3)))\n",
    "model.add(Dropout(0.2))\n",
    "model.add(Flatten())\n",
    "model.add(Dense(16, activation=\"relu\"))\n",
    "model.add(Dropout(0.3))\n",
    "model.add(Dense(model_output, activation = \"softmax\"))\n",
    " \n",
    "model.summary()"
   ]
  },
  {
   "cell_type": "code",
   "execution_count": 11,
   "id": "82b90573",
   "metadata": {},
   "outputs": [],
   "source": [
    "opt = keras.optimizers.SGD(learning_rate=0.001)\n",
    "model.compile(loss='categorical_crossentropy', optimizer=opt, metrics=[\"accuracy\"])\n",
    " \n",
    "earlystop = EarlyStopping(patience=7)\n",
    "callbacks = [earlystop]"
   ]
  },
  {
   "cell_type": "code",
   "execution_count": 12,
   "id": "d13aa0b7",
   "metadata": {},
   "outputs": [
    {
     "name": "stdout",
     "output_type": "stream",
     "text": [
      "Epoch 1/5\n",
      "28/28 [==============================] - 407s 15s/step - loss: 1.4709 - accuracy: 0.3795 - val_loss: 1.3833 - val_accuracy: 0.4286\n",
      "Epoch 2/5\n",
      "28/28 [==============================] - 363s 13s/step - loss: 1.3826 - accuracy: 0.4643 - val_loss: 1.3814 - val_accuracy: 0.4286\n",
      "Epoch 3/5\n",
      "28/28 [==============================] - 363s 13s/step - loss: 1.3806 - accuracy: 0.4598 - val_loss: 1.3803 - val_accuracy: 0.4286\n",
      "Epoch 4/5\n",
      "28/28 [==============================] - 362s 13s/step - loss: 1.3782 - accuracy: 0.4643 - val_loss: 1.3788 - val_accuracy: 0.4286\n",
      "Epoch 5/5\n",
      "28/28 [==============================] - 362s 13s/step - loss: 1.3754 - accuracy: 0.4643 - val_loss: 1.3773 - val_accuracy: 0.4286\n"
     ]
    }
   ],
   "source": [
    "history = model.fit(x = X_train, y = y_train, epochs=5, batch_size = 8 , shuffle=True, \n",
    "                    validation_split=0.2, callbacks=callbacks)"
   ]
  },
  {
   "cell_type": "code",
   "execution_count": 13,
   "id": "20d73c62",
   "metadata": {},
   "outputs": [
    {
     "data": {
      "image/png": "[encoded data removed]",
      "text/plain": [
       "<Figure size 432x288 with 1 Axes>"
      ]
     },
     "metadata": {
      "needs_background": "light"
     },
     "output_type": "display_data"
    },
    {
     "data": {
      "image/png": "[encoded data removed]",
      "text/plain": [
       "<Figure size 432x288 with 1 Axes>"
      ]
     },
     "metadata": {
      "needs_background": "light"
     },
     "output_type": "display_data"
    }
   ],
   "source": [
    "# summarize history for accuracy\n",
    "plt.plot(history.history['accuracy'])\n",
    "plt.plot(history.history['val_accuracy'])\n",
    "plt.title('model accuracy')\n",
    "plt.ylabel('accuracy')\n",
    "plt.xlabel('epoch')\n",
    "plt.legend(['train', 'test'], loc='upper left')\n",
    "plt.show()\n",
    "# summarize history for loss\n",
    "plt.plot(history.history['loss'])\n",
    "plt.plot(history.history['val_loss'])\n",
    "plt.title('model loss')\n",
    "plt.ylabel('loss')\n",
    "plt.xlabel('epoch')\n",
    "plt.legend(['train', 'test'], loc='upper left')\n",
    "plt.show()"
   ]
  },
  {
   "cell_type": "code",
   "execution_count": 14,
   "id": "62ffe006",
   "metadata": {},
   "outputs": [],
   "source": [
    "rounded_prediction = model.predict(X_test)\n",
    "prediction = np.argmax(rounded_prediction, axis=1)"
   ]
  },
  {
   "cell_type": "code",
   "execution_count": 15,
   "id": "7cf91db3",
   "metadata": {},
   "outputs": [
    {
     "data": {
      "text/plain": [
       "array([3, 3, 3, 3, 3, 3, 3, 3, 3, 3, 3, 3, 3, 3, 3, 3, 3, 3, 3, 3, 3, 3,\n",
       "       3, 3, 3, 3, 3, 3, 3, 3, 3, 3, 3, 3, 3, 3, 3, 3, 3, 3, 3, 3, 3, 3,\n",
       "       3, 3, 0, 3, 3, 3, 3, 3, 3, 3, 3, 3, 3, 3, 3, 3, 3, 3, 3, 3, 3, 3,\n",
       "       3, 3, 3, 3])"
      ]
     },
     "execution_count": 15,
     "metadata": {},
     "output_type": "execute_result"
    }
   ],
   "source": [
    "prediction"
   ]
  },
  {
   "cell_type": "code",
   "execution_count": 16,
   "id": "c627b1b7",
   "metadata": {},
   "outputs": [
    {
     "data": {
      "text/plain": [
       "array([0, 0, 3, 0, 3, 2, 2, 1, 0, 3, 3, 0, 3, 1, 0, 1, 1, 3, 3, 3, 3, 3,\n",
       "       0, 1, 2, 0, 0, 0, 0, 2, 0, 0, 0, 1, 0, 1, 3, 2, 0, 0, 3, 2, 2, 3,\n",
       "       3, 1, 1, 3, 2, 1, 1, 3, 3, 0, 0, 3, 2, 3, 0, 0, 3, 3, 0, 3, 1, 1,\n",
       "       2, 1, 3, 0])"
      ]
     },
     "execution_count": 16,
     "metadata": {},
     "output_type": "execute_result"
    }
   ],
   "source": [
    "test_labels = np.argmax(y_test, axis=1)\n",
    "test_labels"
   ]
  },
  {
   "cell_type": "code",
   "execution_count": 17,
   "id": "a2136a25",
   "metadata": {},
   "outputs": [],
   "source": [
    "# creating confusion matrix\n",
    "\n",
    "from sklearn.metrics import confusion_matrix\n",
    "import itertools    \n"
   ]
  },
  {
   "cell_type": "code",
   "execution_count": 18,
   "id": "784cada3",
   "metadata": {},
   "outputs": [
    {
     "data": {
      "text/plain": [
       "array([[ 0,  0,  0, 23],\n",
       "       [ 1,  0,  0, 13],\n",
       "       [ 0,  0,  0, 10],\n",
       "       [ 0,  0,  0, 23]])"
      ]
     },
     "execution_count": 18,
     "metadata": {},
     "output_type": "execute_result"
    }
   ],
   "source": [
    "cm = confusion_matrix(y_true=test_labels, y_pred=prediction)\n",
    "cm"
   ]
  },
  {
   "cell_type": "code",
   "execution_count": 19,
   "id": "4f62f3ce",
   "metadata": {},
   "outputs": [],
   "source": [
    "def plot_confusion_matrix(cm, classes,\n",
    "                        normalize=False,\n",
    "                        title='Confusion matrix',\n",
    "                        cmap=plt.cm.Blues):\n",
    "    \"\"\"\n",
    "    This function prints and plots the confusion matrix.\n",
    "    Normalization can be applied by setting `normalize=True`.\n",
    "    \"\"\"\n",
    "    plt.imshow(cm, interpolation='nearest', cmap=cmap)\n",
    "    plt.title(title)\n",
    "    plt.colorbar()\n",
    "    tick_marks = np.arange(len(classes))\n",
    "    plt.xticks(tick_marks, classes, rotation=45)\n",
    "    plt.yticks(tick_marks, classes)\n",
    "\n",
    "    if normalize:\n",
    "        cm = cm.astype('float') / cm.sum(axis=1)[:, np.newaxis]\n",
    "        print(\"Normalized confusion matrix\")\n",
    "    else:\n",
    "        print('Confusion matrix, without normalization')\n",
    "\n",
    "    print(cm)\n",
    "\n",
    "    thresh = cm.max() / 2.\n",
    "    for i, j in itertools.product(range(cm.shape[0]), range(cm.shape[1])):\n",
    "        plt.text(j, i, cm[i, j],\n",
    "            horizontalalignment=\"center\",\n",
    "            color=\"white\" if cm[i, j] > thresh else \"black\")\n",
    "\n",
    "    plt.tight_layout()\n",
    "    plt.ylabel('True label')\n",
    "    plt.xlabel('Predicted label')"
   ]
  },
  {
   "cell_type": "code",
   "execution_count": 20,
   "id": "b644d447",
   "metadata": {},
   "outputs": [
    {
     "name": "stdout",
     "output_type": "stream",
     "text": [
      "Confusion matrix, without normalization\n",
      "[[ 0  0  0 23]\n",
      " [ 1  0  0 13]\n",
      " [ 0  0  0 10]\n",
      " [ 0  0  0 23]]\n"
     ]
    },
    {
     "data": {
      "image/png": "[encoded data removed]",
      "text/plain": [
       "<Figure size 432x288 with 2 Axes>"
      ]
     },
     "metadata": {
      "needs_background": "light"
     },
     "output_type": "display_data"
    }
   ],
   "source": [
    "plot_confusion_matrix(cm, classes,  title='Confusion Matrix', cmap=plt.cm.Blues)"
   ]
  },
  {
   "cell_type": "code",
   "execution_count": null,
   "id": "655ec85c",
   "metadata": {},
   "outputs": [],
   "source": [
    "from IPython.display import Video"
   ]
  },
  {
   "cell_type": "code",
   "execution_count": 54,
   "id": "efbb1f58",
   "metadata": {},
   "outputs": [],
   "source": [
    "# prediction\n",
    "\n",
    "def predict_on_video(video_full_path):\n",
    "    X = []\n",
    "    frames = frames_extraction(video_full_path)\n",
    "    if len(frames) == seq_len:\n",
    "        X.append(frames)\n",
    "    X = np.asarray(X)\n",
    "    predictions = model.predict(X)\n",
    "    highest_prediction = np.argmax(predictions, axis=1)\n",
    "    print(\"Seems '{}' to me\".format(classes[highest_prediction[0]]))"
   ]
  },
  {
   "cell_type": "code",
   "execution_count": 56,
   "id": "b04856b6",
   "metadata": {},
   "outputs": [
    {
     "name": "stdout",
     "output_type": "stream",
     "text": [
      "Seems 'Normal' to me\n"
     ]
    },
    {
     "data": {
      "text/html": [
       "<video src=\"Youtube_Videos/Test Video.mp4\" controls  >\n",
       "      Your browser does not support the <code>video</code> element.\n",
       "    </video>"
      ],
      "text/plain": [
       "<IPython.core.display.Video object>"
      ]
     },
     "execution_count": 56,
     "metadata": {},
     "output_type": "execute_result"
    }
   ],
   "source": [
    "test_video = \"Youtube_Videos/Test Video.mp4\"\n",
    "my_video = predict_on_video(test_video)\n",
    "Video(test_video)"
   ]
  },
  {
   "cell_type": "code",
   "execution_count": null,
   "id": "f4cb9fb6",
   "metadata": {},
   "outputs": [],
   "source": []
  }
 ],
 "metadata": {
  "kernelspec": {
   "display_name": "Python 3",
   "language": "python",
   "name": "python3"
  },
  "language_info": {
   "codemirror_mode": {
    "name": "ipython",
    "version": 3
   },
   "file_extension": ".py",
   "mimetype": "text/x-python",
   "name": "python",
   "nbconvert_exporter": "python",
   "pygments_lexer": "ipython3",
   "version": "3.6.9"
  }
 },
 "nbformat": 4,
 "nbformat_minor": 5
}
